{
 "cells": [
  {
   "cell_type": "code",
   "execution_count": 1,
   "metadata": {},
   "outputs": [],
   "source": [
    "import os\n",
    "\n",
    "os.environ['CUDA_VISIBLE_DEVICES'] = ''\n",
    "from argparse import ArgumentParser\n",
    "\n",
    "parser = ArgumentParser()\n",
    "# OIE module setting\n",
    "parser.add_argument(\n",
    "    \"--oie_llm\", default=\"mistralai/Mistral-7B-Instruct-v0.2\", help=\"LLM used for open information extraction.\"\n",
    ")\n",
    "parser.add_argument(\n",
    "    \"--oie_prompt_template_file_path\",\n",
    "    default=\"./prompt_templates/oie_template.txt\",\n",
    "    help=\"Promp template used for open information extraction.\",\n",
    ")\n",
    "parser.add_argument(\n",
    "    \"--oie_few_shot_example_file_path\",\n",
    "    default=\"./few_shot_examples/default/oie_few_shot_examples.txt\",\n",
    "    help=\"Few shot examples used for open information extraction.\",\n",
    ")\n",
    "\n",
    "# Schema Definition setting\n",
    "parser.add_argument(\n",
    "    \"--sd_llm\", default=\"mistralai/Mistral-7B-Instruct-v0.2\", help=\"LLM used for schema definition.\"\n",
    ")\n",
    "parser.add_argument(\n",
    "    \"--sd_prompt_template_file_path\",\n",
    "    default=\"./prompt_templates/sd_template.txt\",\n",
    "    help=\"Prompt template used for schema definition.\",\n",
    ")\n",
    "parser.add_argument(\n",
    "    \"--sd_few_shot_example_file_path\",\n",
    "    default=\"./few_shot_examples/default/sd_few_shot_examples.txt\",\n",
    "    help=\"Few shot examples used for schema definition.\",\n",
    ")\n",
    "\n",
    "# Schema Canonicalization setting\n",
    "parser.add_argument(\n",
    "    \"--sc_llm\",\n",
    "    default=\"mistralai/Mistral-7B-Instruct-v0.2\",\n",
    "    help=\"LLM used for schema canonicaliztion verification.\",\n",
    ")\n",
    "parser.add_argument(\n",
    "    \"--sc_prompt_template_file_path\",\n",
    "    default=\"./prompt_templates/sc_template.txt\",\n",
    "    help=\"Prompt template used for schema canonicalization verification.\",\n",
    ")\n",
    "parser.add_argument(\n",
    "    \"--sc_embedder\",\n",
    "    default=\"all-mpnet-base-v2\"\n",
    ")\n",
    "\n",
    "# Refinement setting\n",
    "parser.add_argument(\"--sr_adapter_path\", default=None, help=\"Path to adapter of schema retriever.\")\n",
    "parser.add_argument(\n",
    "    \"--oie_refine_prompt_template_file_path\",\n",
    "    default=\"./prompt_templates/oie_r_template.txt\",\n",
    "    help=\"Prompt template used for refined open information extraction.\",\n",
    ")\n",
    "parser.add_argument(\n",
    "    \"--oie_refine_few_shot_example_file_path\",\n",
    "    default=\"./few_shot_examples/default/oie_few_shot_refine_examples.txt\",\n",
    "    help=\"Few shot examples used for refined open information extraction.\",\n",
    ")\n",
    "parser.add_argument(\n",
    "    \"--ee_llm\", default=\"mistralai/Mistral-7B-Instruct-v0.2\", help=\"LLM used for entity extraction.\"\n",
    ")\n",
    "parser.add_argument(\n",
    "    \"--ee_prompt_template_file_path\",\n",
    "    default=\"./prompt_templates/ee_template.txt\",\n",
    "    help=\"Prompt templated used for entity extraction.\",\n",
    ")\n",
    "parser.add_argument(\n",
    "    \"--ee_few_shot_example_file_path\",\n",
    "    default=\"./few_shot_examples/default/ee_few_shot_examples.txt\",\n",
    "    help=\"Few shot examples used for entity extraction.\",\n",
    ")\n",
    "parser.add_argument(\n",
    "    \"--em_prompt_template_file_path\",\n",
    "    default=\"./prompt_templates/em_template.txt\",\n",
    "    help=\"Prompt template used for entity merging.\",\n",
    ")\n",
    "\n",
    "# Input setting\n",
    "parser.add_argument(\n",
    "    \"--input_text_file_path\",\n",
    "    default=\"./datasets/example.txt\",\n",
    "    help=\"File containing input texts to extract KG from, each line contains one piece of text.\",\n",
    ")\n",
    "parser.add_argument(\n",
    "    \"--target_schema_path\",\n",
    "    default=None,\n",
    "    help=\"File containing the target schema to align to.\",\n",
    ")\n",
    "parser.add_argument(\"--refinement_iterations\", default=0, type=int, help=\"Number of iteration to run.\")\n",
    "parser.add_argument(\n",
    "    \"--enrich_schema\",\n",
    "    action=\"store_true\",\n",
    "    help=\"Whether un-canonicalizable relations should be added to the schema.\",\n",
    ")\n",
    "\n",
    "# Output setting\n",
    "parser.add_argument(\"--output_dir\", default=\"./output/tmp\", help=\"Directory to output to.\")\n",
    "\n",
    "defaults = vars(parser.parse_args([]))"
   ]
  },
  {
   "cell_type": "code",
   "execution_count": 2,
   "metadata": {},
   "outputs": [
    {
     "ename": "SyntaxError",
     "evalue": "invalid syntax (edc_framework.py, line 335)",
     "output_type": "error",
     "traceback": [
      "Traceback \u001b[0;36m(most recent call last)\u001b[0m:\n",
      "\u001b[0m  File \u001b[1;32m~/miniconda3/envs/edc/lib/python3.9/site-packages/IPython/core/interactiveshell.py:3550\u001b[0m in \u001b[1;35mrun_code\u001b[0m\n    exec(code_obj, self.user_global_ns, self.user_ns)\u001b[0m\n",
      "\u001b[0;36m  Cell \u001b[0;32mIn[2], line 1\u001b[0;36m\n\u001b[0;31m    from edc.edc_framework import EDC\u001b[0;36m\n",
      "\u001b[0;36m  File \u001b[0;32m~/edc/edc/edc_framework.py:335\u001b[0;36m\u001b[0m\n\u001b[0;31m    if refinement_idx\u001b[0m\n\u001b[0m                      ^\u001b[0m\n\u001b[0;31mSyntaxError\u001b[0m\u001b[0;31m:\u001b[0m invalid syntax\n"
     ]
    }
   ],
   "source": [
    "from edc.edc_framework import EDC\n",
    "edc = EDC(**defaults)"
   ]
  },
  {
   "cell_type": "code",
   "execution_count": null,
   "metadata": {},
   "outputs": [],
   "source": [
    "input_text_list = [\"Bowen is a student at NUS.\"]"
   ]
  },
  {
   "cell_type": "code",
   "execution_count": null,
   "metadata": {},
   "outputs": [],
   "source": [
    "edc.oie(input_text_list)"
   ]
  },
  {
   "cell_type": "code",
   "execution_count": null,
   "metadata": {},
   "outputs": [],
   "source": [
    "edc.schema_definition(input_text_list, [[['Bowen', 'studentOf', 'NUS']]], free_model=True)"
   ]
  },
  {
   "cell_type": "code",
   "execution_count": null,
   "metadata": {},
   "outputs": [],
   "source": [
    "from sentence_transformers import SentenceTransformer\n",
    "\n",
    "model = SentenceTransformer(\"intfloat/e5-mistral-7b-instruct\", device=\"cpu\")"
   ]
  },
  {
   "cell_type": "code",
   "execution_count": null,
   "metadata": {},
   "outputs": [],
   "source": [
    "queries = [\n",
    "    \"how much protein should a female eat\",\n",
    "    \"summit define\",\n",
    "]\n",
    "documents = [\n",
    "    \"As a general guideline, the CDC's average requirement of protein for women ages 19 to 70 is 46 grams per day. But, as you can see from this chart, you'll need to increase that if you're expecting or training for a marathon. Check out the chart below to see how much protein you should be eating each day.\",\n",
    "    \"Definition of summit for English Language Learners. : 1  the highest point of a mountain : the top of a mountain. : 2  the highest level. : 3  a meeting or series of meetings between the leaders of two or more governments.\"\n",
    "]\n"
   ]
  },
  {
   "cell_type": "code",
   "execution_count": null,
   "metadata": {},
   "outputs": [],
   "source": [
    "query_embeddings = model.encode(queries, prompt_name=\"web_search_query\")\n",
    "document_embeddings = model.encode(documents)\n",
    "\n",
    "scores = (query_embeddings @ document_embeddings.T) * 100\n",
    "print(scores.tolist())"
   ]
  },
  {
   "cell_type": "code",
   "execution_count": null,
   "metadata": {},
   "outputs": [],
   "source": [
    "model.prompts"
   ]
  }
 ],
 "metadata": {
  "kernelspec": {
   "display_name": "edc",
   "language": "python",
   "name": "python3"
  },
  "language_info": {
   "codemirror_mode": {
    "name": "ipython",
    "version": 3
   },
   "file_extension": ".py",
   "mimetype": "text/x-python",
   "name": "python",
   "nbconvert_exporter": "python",
   "pygments_lexer": "ipython3",
   "version": "3.9.19"
  }
 },
 "nbformat": 4,
 "nbformat_minor": 2
}
